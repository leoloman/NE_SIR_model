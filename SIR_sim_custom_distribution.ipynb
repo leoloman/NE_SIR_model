{
 "cells": [
  {
   "cell_type": "code",
   "execution_count": 9,
   "id": "31cad1d6-8ce6-435e-8f9c-2fcfcc5393a9",
   "metadata": {},
   "outputs": [],
   "source": [
    "import scipy as sp\n",
    "import scipy.integrate as sp_int\n",
    "import matplotlib.pyplot as plt\n",
    "import math\n",
    "import numpy as np"
   ]
  },
  {
   "cell_type": "code",
   "execution_count": null,
   "id": "0d662697-3684-4e22-9240-28699e93bb85",
   "metadata": {},
   "outputs": [],
   "source": [
    "# Example of a network with P(1) = 0.5, P(3) = 0.5"
   ]
  },
  {
   "cell_type": "code",
   "execution_count": 20,
   "id": "6f8d8ced-45b7-4cf9-b676-33b1dec91db9",
   "metadata": {},
   "outputs": [],
   "source": [
    "def calc_g(lamda, x):\n",
    "    return 0 + 0.5*x + 0*x**2 + 0.5*x**3\n",
    "    \n",
    "def calc_g1(lamda, x): \n",
    "    return 0.5 + 2*0*x + 3*0.5*x**2\n",
    "    \n",
    "def calc_g2(lamda, x):\n",
    "    return 3*0.5*2*x"
   ]
  },
  {
   "cell_type": "code",
   "execution_count": 21,
   "id": "e4296115-7626-4730-ab1c-f86764f74e1a",
   "metadata": {},
   "outputs": [],
   "source": [
    "def derv(x,t,lam,rr,mm,pp, calc_g, calc_g1, calc_g2):\n",
    "    #y[0]= change of theta \n",
    "    #y[1]= change of p_infec \n",
    "    #y[2]= change of p_suscep \n",
    "    #y[3]= proportion of S \n",
    "    #y[4]= change of M_I \n",
    "    #y[5]= change of I\n",
    "    y=list(range(6))#zeros(6);\n",
    "    y[0]=-rr*x[1]*x[0] \n",
    "    y[1]=rr*x[2]*x[1]*x[0]*calc_g2(lam,x[0])/calc_g1(lam,x[0])-rr*x[1]*(1-x[1])-x[1]*mm+pp*(x[4]-x[1]) \n",
    "    y[2]=rr*x[2]*x[1]*(1-x[0]*calc_g2(lam,x[0])/calc_g1(lam,x[0]))+pp*(x[0]*calc_g1(lam,x[0])/calc_g1(lam,1)-x[2])\n",
    "    y[3]=-rr*x[1]*x[0]*calc_g1(lam,x[0]) \n",
    "    y[4]=-mm*x[4]+rr*x[1]*(x[0]**2*calc_g2(lam,x[0])+x[0]*calc_g1(lam,x[0])/calc_g1(lam,1)) \n",
    "    y[5]=rr*x[1]*x[0]*calc_g1(lam,x[0])-mm*x[5]\n",
    "    return(y)"
   ]
  },
  {
   "cell_type": "code",
   "execution_count": 22,
   "id": "65cce9f1-6812-4929-ab80-4c6e89e34097",
   "metadata": {},
   "outputs": [],
   "source": [
    "# lamda = pw_pgf.powerlaw_p_vec(2.218, 75)\n",
    "r = 0.2\n",
    "mu = 0.2\n",
    "ro = 0.2\n",
    "epsilon = 0.001\n",
    "time = list(range(0,200))\n",
    "# time = np.linspace(0,200,0.1)\n",
    "init = [1 - epsilon, # proportion susceptible at start\n",
    "       epsilon / (1 - epsilon), #\n",
    "       (1 - 2*epsilon)/(1 - epsilon), #\n",
    "       calc_g(lamda, 1 - epsilon), #\n",
    "       epsilon, #\n",
    "       1 - calc_g(lamda, 1- epsilon) # \n",
    "       ]\n",
    "\n",
    "out=sp_int.odeint(derv, init, time, args=(lamda,r,mu,ro, \n",
    "                                          calc_g,calc_g1,calc_g2))"
   ]
  },
  {
   "cell_type": "code",
   "execution_count": 26,
   "id": "d82bed11-3f87-48e0-93cf-9e324622d20e",
   "metadata": {},
   "outputs": [
    {
     "data": {
      "text/plain": [
       "<matplotlib.legend.Legend at 0x11bba6f10>"
      ]
     },
     "execution_count": 26,
     "metadata": {},
     "output_type": "execute_result"
    },
    {
     "data": {
      "image/png": "[encoded data removed]",
      "text/plain": [
       "<Figure size 432x288 with 1 Axes>"
      ]
     },
     "metadata": {
      "needs_background": "light"
     },
     "output_type": "display_data"
    }
   ],
   "source": [
    "# plt.plot(pop_tap[:,0], alpha =0.5) # change of theta\n",
    "# plt.plot(pop_tap[:,1])#change of p_infec \n",
    "# plt.plot(pop_tap[:,2]) change of p_suscep \n",
    "plt.plot(out[:,3], label = 'S') #proportion of S\n",
    "# plt.plot(pop_tap[:,4], alpha = 0.5) change of M_I \n",
    "plt.plot(out[:,5], alpha = 0.5, label = 'I') # change of I\n",
    "# recovered\n",
    "plt.plot(1 - (out[:,5]+out[:,3]), alpha = 0.5, label= 'R')\n",
    "plt.legend()"
   ]
  },
  {
   "cell_type": "code",
   "execution_count": null,
   "id": "d4d0cac5-0278-411f-a660-e4dec3f0e6b3",
   "metadata": {},
   "outputs": [],
   "source": []
  },
  {
   "cell_type": "code",
   "execution_count": 28,
   "id": "45a5a562-77d5-4e8f-b5d2-8d15fe55bccd",
   "metadata": {},
   "outputs": [
    {
     "data": {
      "text/plain": [
       "<matplotlib.legend.Legend at 0x11bc171f0>"
      ]
     },
     "execution_count": 28,
     "metadata": {},
     "output_type": "execute_result"
    },
    {
     "data": {
      "image/png": "[encoded data removed]",
      "text/plain": [
       "<Figure size 432x288 with 1 Axes>"
      ]
     },
     "metadata": {
      "needs_background": "light"
     },
     "output_type": "display_data"
    }
   ],
   "source": [
    "# plt.plot(pop_tap[:,0], alpha =0.5) # change of theta\n",
    "# plt.plot(pop_tap[:,1])#\n",
    "# plt.plot(pop_tap[:,2])\n",
    "plt.plot(out[:,2], label = 'S')\n",
    "# plt.plot(pop_tap[:,4], alpha = 0.5)\n",
    "plt.plot(out[:,4], alpha = 0.5, label = 'I')\n",
    "# recovered\n",
    "plt.plot(1 - (out[:,2]+out[:,4]), alpha = 0.5, label= 'R')\n",
    "plt.legend()"
   ]
  },
  {
   "cell_type": "code",
   "execution_count": 27,
   "id": "5e361025-5f81-4155-bc9e-2ac256e4cbef",
   "metadata": {},
   "outputs": [
    {
     "data": {
      "text/plain": [
       "0.09652541014774602"
      ]
     },
     "execution_count": 27,
     "metadata": {},
     "output_type": "execute_result"
    }
   ],
   "source": [
    "max(out[:,5])"
   ]
  },
  {
   "cell_type": "code",
   "execution_count": 23,
   "id": "b44424a6-0604-4ed0-bc4d-5fe7a839518d",
   "metadata": {},
   "outputs": [],
   "source": [
    "N = 10_000\n",
    "pop_tap = out * N"
   ]
  },
  {
   "cell_type": "code",
   "execution_count": 24,
   "id": "78ec92d2-b96e-4299-85d4-e9e674e55b5d",
   "metadata": {},
   "outputs": [
    {
     "data": {
      "text/plain": [
       "<matplotlib.legend.Legend at 0x11ba5de50>"
      ]
     },
     "execution_count": 24,
     "metadata": {},
     "output_type": "execute_result"
    },
    {
     "data": {
      "image/png": "[encoded data removed]",
      "text/plain": [
       "<Figure size 432x288 with 1 Axes>"
      ]
     },
     "metadata": {
      "needs_background": "light"
     },
     "output_type": "display_data"
    }
   ],
   "source": [
    "# plt.plot(pop_tap[:,0], alpha =0.5) # change of theta\n",
    "# plt.plot(pop_tap[:,1])#\n",
    "# plt.plot(pop_tap[:,2])\n",
    "plt.plot(pop_tap[:,3], label = 'S')\n",
    "# plt.plot(pop_tap[:,4], alpha = 0.5)\n",
    "plt.plot(pop_tap[:,5], alpha = 0.5, label = 'I')\n",
    "# recovered\n",
    "plt.plot(10_000 - (pop_tap[:,5]+pop_tap[:,3]), alpha = 0.5, label= 'R')\n",
    "plt.legend()"
   ]
  },
  {
   "cell_type": "code",
   "execution_count": 25,
   "id": "38c96c58-75cc-47ad-9ee7-ef7f302e24d3",
   "metadata": {},
   "outputs": [
    {
     "data": {
      "text/plain": [
       "array([5960.32875292])"
      ]
     },
     "execution_count": 25,
     "metadata": {},
     "output_type": "execute_result"
    }
   ],
   "source": [
    "# final size\n",
    "N - (pop_tap[:,5]+pop_tap[:,3])[199:]"
   ]
  },
  {
   "cell_type": "code",
   "execution_count": null,
   "id": "f6556572-130c-42df-a0ab-8d99aaa27cae",
   "metadata": {},
   "outputs": [],
   "source": []
  }
 ],
 "metadata": {
  "kernelspec": {
   "display_name": "sklearn_env",
   "language": "python",
   "name": "sklearn"
  },
  "language_info": {
   "codemirror_mode": {
    "name": "ipython",
    "version": 3
   },
   "file_extension": ".py",
   "mimetype": "text/x-python",
   "name": "python",
   "nbconvert_exporter": "python",
   "pygments_lexer": "ipython3",
   "version": "3.9.7"
  }
 },
 "nbformat": 4,
 "nbformat_minor": 5
}
