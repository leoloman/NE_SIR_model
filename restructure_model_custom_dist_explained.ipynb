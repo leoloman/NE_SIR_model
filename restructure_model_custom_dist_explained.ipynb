{
 "cells": [
  {
   "cell_type": "markdown",
   "id": "54b226bf-a585-46aa-9fe4-469638baf4eb",
   "metadata": {},
   "source": [
    "# The Vols Static Random & Volz NE Model (2007)\n",
    "\n",
    "This notebook will show an implementation of the Volz SIR dynamics in random networks & Volz Neighbour Exchange SIR model. I will explain each step of the ordinary differential equations as well as explain the probability generating functions. \n",
    "\n",
    "This model assumes that each individuals number of current contacts stays the same but that the identity of the contacts change over time, they change at a steady rate $\\rho$.\n",
    "\n",
    "https://www.ncbi.nlm.nih.gov/pmc/articles/PMC7080148/pdf/285_2007_Article_116.pdf\n",
    "\n",
    "https://royalsocietypublishing.org/doi/10.1098/rspb.2007.1159\n",
    "\n",
    "https://www.ncbi.nlm.nih.gov/pmc/articles/PMC2291166/pdf/rspb20071159.pdf\n",
    "\n",
    "https://www.researchgate.net/publication/247604013_Correction_for_Volz_and_Meyers_Susceptible-infected-recovered_epidemics_in_dynamic_contact_networks\n",
    "\n",
    "https://www.ncbi.nlm.nih.gov/pmc/articles/PMC7080148/pdf/285_2007_Article_116.pdf\n",
    "\n",
    "https://royalsocietypublishing.org/doi/10.1098/rspb.2007.1159"
   ]
  },
  {
   "cell_type": "code",
   "execution_count": 2,
   "id": "87595ae0-c81c-43b1-a3c2-c18047602137",
   "metadata": {},
   "outputs": [],
   "source": [
    "import scipy as sp\n",
    "import scipy.integrate as sp_int\n",
    "import matplotlib.pyplot as plt\n",
    "import math\n",
    "import numpy as np\n",
    "import networkx as nx"
   ]
  },
  {
   "cell_type": "code",
   "execution_count": null,
   "id": "de40cfad-036a-4280-8c59-34bc1f8f3849",
   "metadata": {},
   "outputs": [],
   "source": []
  },
  {
   "cell_type": "markdown",
   "id": "d84cfe74-bff6-4d58-8286-ce8b0f45e0b8",
   "metadata": {},
   "source": [
    "# Probability Generating Function\n",
    "\n",
    "In order to express the degree distribution, and other values of the network, in a functional way, Newman devleoped the idea of using Probability Generating Functions (PGF's). "
   ]
  },
  {
   "cell_type": "markdown",
   "id": "1c05a325-931f-4eea-8285-394a53f93c76",
   "metadata": {},
   "source": [
    "Probability Generating Functions can be written as:\n",
    "$$\n",
    "g(x) = p_{0} + p_{1}x + p_{2}x^2 + p_{3}x^3 + ... p_{n}x^n\n",
    "$$\n",
    "\n",
    "Alternatively it can be written as \n",
    "\n",
    "$$\n",
    "G_{0}(x) = \\sum_{k = 0}^{\\infty}p_{k}x^k\n",
    "$$\n",
    "\n",
    "$x$ is used to find the associated value of k (degree) within a specific networks degree distribution."
   ]
  },
  {
   "cell_type": "markdown",
   "id": "a5857928-078d-4522-bb9f-d6f4aab7d186",
   "metadata": {},
   "source": [
    "The first derivate of a PGF evaluated at $x = 1$ gives the average value of k. For example the average degree of a vertex in a distribution would be found by:\n",
    "\n",
    "$$\n",
    "G_{0}'(1) = <K> = \\sum_{k}^{}kp_{k}\n",
    "$$\n",
    "\n",
    "PGF's are connected to the moments of the distributions, these functions prove beneficial not only for gathering information about properties of vertices but also the edges."
   ]
  },
  {
   "cell_type": "markdown",
   "id": "83364cba-af08-4e4a-ac91-3b8af8982387",
   "metadata": {},
   "source": [
    "# How the Probability Generating Function works in practice\n",
    "\n",
    "Consider the probability of a node being infected, say $\\lambda$, is compounded geometrically according to the node's degree. Then the probability of a degree $k$ node being susceptible is $(1 - \\lambda)^{k}$, that is, the probability of not being infected along any of $k$ connections. If the hazard is identical for all nodes, the cumulative epidemic incidence ( the fraction of nodes infected or recovered) will be:\n",
    "\n",
    "$J = 1 - [p_{0}(1-\\lambda)^{0} + p_{1}(1-\\lambda)^{1} + p_{2}(1-\\lambda)^{2} + ... $\n",
    "\n",
    "$J = 1 - g(1-\\lambda)$\n",
    "\n",
    "Refernce: https://www.ncbi.nlm.nih.gov/pmc/articles/PMC7080148/pdf/285_2007_Article_116.pdf"
   ]
  },
  {
   "cell_type": "markdown",
   "id": "453b421f-23d8-4931-af78-9bb647a7c456",
   "metadata": {},
   "source": [
    "Below I have written out the probability generating function for a network with P(1) = 0.5 and P(3) = 0.5 distribution alongside its first and second derivative"
   ]
  },
  {
   "cell_type": "code",
   "execution_count": null,
   "id": "eb72cf9f-6a78-4d4c-b65e-1a1273288731",
   "metadata": {},
   "outputs": [],
   "source": []
  },
  {
   "cell_type": "markdown",
   "id": "ce4334bd-f994-450b-bedd-42c9df553d30",
   "metadata": {},
   "source": [
    "The degree distribution will have density pk, which is the probability that a node chosen uniformly at random has k concurrent contacts."
   ]
  },
  {
   "cell_type": "code",
   "execution_count": 3,
   "id": "4e561a12-9a1d-40a5-a7cb-4615be77f808",
   "metadata": {},
   "outputs": [],
   "source": [
    "def calc_g( x,lamda ):\n",
    "    return 0 + 0.5*x + 0.5*x**3\n",
    "    \n",
    "def calc_g1( x,lamda): \n",
    "    return 0.5  + 3*0.5*x**2\n",
    "    \n",
    "def calc_g2( x,lamda):\n",
    "    return 3*0.5*2*x"
   ]
  },
  {
   "cell_type": "markdown",
   "id": "1162ad08-22a3-49cf-a993-a3dad0bfbd92",
   "metadata": {},
   "source": [
    "An example of a network with P(1) = 0.5 and P(3) = 0.5"
   ]
  },
  {
   "cell_type": "code",
   "execution_count": 52,
   "id": "cd1c4706-e1e1-4c59-91b6-ab4949fbfc19",
   "metadata": {},
   "outputs": [
    {
     "data": {
      "image/png": "[encoded data removed]",
      "text/plain": [
       "<Figure size 432x288 with 1 Axes>"
      ]
     },
     "metadata": {},
     "output_type": "display_data"
    }
   ],
   "source": [
    "G = nx.configuration_model([3]*15 + [1]*15, seed = 8)\n",
    "nx.draw(G, pos = nx.spring_layout(G, seed=2), \n",
    "        node_size  = 100,\n",
    "       node_color = 'green')"
   ]
  },
  {
   "cell_type": "markdown",
   "id": "502712f5-2048-4137-b019-4a1a4e38fb12",
   "metadata": {
    "tags": []
   },
   "source": [
    "# Static Semi Random Network ODE\n",
    "\n",
    "The static semi random network equation models an SIR on semi random network with the degree distribution provided in the probability generating function."
   ]
  },
  {
   "cell_type": "markdown",
   "id": "aaf66377-8ee6-4eec-9955-7ecbca0a62c5",
   "metadata": {},
   "source": [
    "$\\dot{\\theta} = -rp_{I} \\theta$\n",
    "\n",
    "$\\dot{p_{I}} = r p_{S} p_{I} \\theta \\frac{g''(\\theta)}{g'(\\theta)} -  r p_{I} (1-p_{I} ) - p_{I} \\mu$\n",
    "\n",
    "$\\dot{p_{S}} = r p_{S} p_{I} ( 1- \\theta \\frac{g''(\\theta)}{g'(\\theta)}$\n",
    "\n",
    "\n",
    "\n",
    "$\\dot{S} = -rp_{I}\\theta g'(\\theta)$\n",
    "\n",
    "$\\dot{I} = r p_{I} \\theta g'(\\theta) - \\mu I $"
   ]
  },
  {
   "cell_type": "code",
   "execution_count": 53,
   "id": "2092df5b-509e-44f5-852b-7b9e2dedb73f",
   "metadata": {},
   "outputs": [],
   "source": [
    "def calc_g (x):\n",
    "    return 0 + 0.5*x + 0*x**2 + 0.5*x**3\n",
    "    \n",
    "def calc_g1( x): \n",
    "    return 0.5 + 2*0*x + 3*0.5*x**2\n",
    "    \n",
    "def calc_g2( x):\n",
    "    return 3*0.5*2*x"
   ]
  },
  {
   "cell_type": "code",
   "execution_count": 54,
   "id": "8cf6cbfd-5f4f-48c6-aa2a-623685575870",
   "metadata": {},
   "outputs": [],
   "source": [
    "r = 0.7 # force of infection (trasnsmission rate\n",
    "mu = 0.2 # reocvery rate\n",
    "epsilon = 0.001\n",
    "time = list(range(0,100))\n",
    "# time = np.linspace(0,200,0.1)\n",
    "init = [1 - epsilon, # theta\n",
    "       epsilon / (1 - epsilon), #force of infection \n",
    "       (1 - 2*epsilon)/(1 - epsilon), # represents the probability that an arc with a susceptible ego has a susceptible alter\n",
    "       calc_g( 1 - epsilon), #\n",
    "       1 - calc_g( 1- epsilon) # \n",
    "       ]"
   ]
  },
  {
   "cell_type": "code",
   "execution_count": 56,
   "id": "3911f101-b3f1-4b49-9984-9c6d4503ec73",
   "metadata": {},
   "outputs": [
    {
     "data": {
      "text/plain": [
       "[0.999,\n",
       " 0.001001001001001001,\n",
       " 0.998998998998999,\n",
       " 0.9980014994999999,\n",
       " 0.0019985005000000555]"
      ]
     },
     "execution_count": 56,
     "metadata": {},
     "output_type": "execute_result"
    }
   ],
   "source": [
    "init"
   ]
  },
  {
   "cell_type": "markdown",
   "id": "b024fdb2-a91c-4d14-abea-4cdc6742f3fd",
   "metadata": {},
   "source": [
    "$$\n",
    "p_{I} = \\frac{M_{SI}}{M_{S}}\\\\\n",
    "p_{S} = \\frac{M_{SS}}{M_{S}}\\\\\n",
    "S = g(\\theta)\n",
    "$$"
   ]
  },
  {
   "cell_type": "code",
   "execution_count": 57,
   "id": "338a442d-82d7-4f04-bf29-cdc837f3184c",
   "metadata": {},
   "outputs": [],
   "source": [
    "def static_semi_random(x, t, rr, mm, calc_g, calc_g1, calc_g2):\n",
    "    #x[0] - theta\n",
    "    # x[1] pi\n",
    "    #x[2] ps\n",
    "    # x[3] s\n",
    "    #x[4] I\n",
    "    \n",
    "    y=list(range(5))#zeros(6);\n",
    "    \n",
    "    y[0]= -rr * x[1] * x[0] \n",
    "    \n",
    "    y[1]= rr * x[2] * x[1] * x[0] * (calc_g2(x[0])/calc_g1(x[0])) - rr * x[1] * (1 - x[1]) - x[1] * mm\n",
    "    \n",
    "    y[2]= rr * x[2] * x[1] * ( 1- x[0] * (calc_g2(x[0]) / calc_g1(x[0]) ) )\n",
    "    \n",
    "    y[3]= -rr * x[1] * x[0] * calc_g1(x[0])\n",
    "    y[4] = rr * x[1] * x[0] * calc_g1(x[0]) - mm * x[4]\n",
    "    return(y)"
   ]
  },
  {
   "cell_type": "code",
   "execution_count": 58,
   "id": "5129716b-e167-4601-96a7-35abb2533d8d",
   "metadata": {},
   "outputs": [],
   "source": [
    "out=sp_int.odeint(static_semi_random, init, time, args=(r,mu, \n",
    "                                          calc_g,calc_g1,calc_g2))"
   ]
  },
  {
   "cell_type": "code",
   "execution_count": 62,
   "id": "e6e5779d-d1d1-4309-9126-c5d460ba8ad0",
   "metadata": {},
   "outputs": [
    {
     "data": {
      "text/plain": [
       "<matplotlib.legend.Legend at 0x13c514a00>"
      ]
     },
     "execution_count": 62,
     "metadata": {},
     "output_type": "execute_result"
    },
    {
     "data": {
      "image/png": "[encoded data removed]",
      "text/plain": [
       "<Figure size 432x288 with 1 Axes>"
      ]
     },
     "metadata": {
      "needs_background": "light"
     },
     "output_type": "display_data"
    }
   ],
   "source": [
    "# plt.plot(out[:,0])\n",
    "# plt.plot(out[:,1])\n",
    "# plt.plot(out[:,2])\n",
    "plt.plot(out[:,3], label = 'S')\n",
    "plt.plot(out[:,4], label = 'I')\n",
    "plt.plot(1 - out[:,3] - out[:,4], label = 'R')\n",
    "plt.legend()"
   ]
  },
  {
   "cell_type": "markdown",
   "id": "8eceb4b6-f3d4-467b-ad23-40afe8abb265",
   "metadata": {
    "tags": []
   },
   "source": [
    "\n",
    "The simultaneous epidemic and network dynamics described above collectively determine the NE model. An even more realistic model would allow the number k of concurrent contacts of a node to vary stochastically, but the current model offers a valuable first step towards understanding epidemiological processes on dynamic host networks.\n",
    "\n"
   ]
  },
  {
   "cell_type": "code",
   "execution_count": null,
   "id": "9849caa2-285f-4796-b5d9-d4129dc6693e",
   "metadata": {},
   "outputs": [],
   "source": [
    "fig, ax = plt.subplots(ncols = 2, figsize = (12,5))\n",
    "nx.draw(nx.from_edgelist([['A','B'],\n",
    "                 ['C','D']]), pos = {'A':(0.1, 0.1),\n",
    "                                    'B':(0.1, 0.2),\n",
    "                                    'C':(0.2,0.1),\n",
    "                                    'D':(0.2,0.2)},\n",
    "       node_size = 700,\n",
    "       node_color = {'A': \"lightgreen\", 'B': \"lightgreen\", 'C': \"orange\", 'D': \"orange\"}.values(),\n",
    "       with_labels = True,\n",
    "       ax = ax[0])\n",
    "\n",
    "ax[0].set_title('Timestep: 0')\n",
    "\n",
    "nx.draw(nx.from_edgelist([['A','C'],\n",
    "                 ['B','D']]), pos = {'A':(0.1, 0.1),\n",
    "                                    'B':(0.1, 0.2),\n",
    "                                    'C':(0.2,0.1),\n",
    "                                    'D':(0.2,0.2)},\n",
    "       node_size = 700,\n",
    "       node_color = {'A': \"lightgreen\",'C': \"orange\",'B': \"lightgreen\",'D': \"orange\"}.values(),\n",
    "       with_labels = True,\n",
    "       ax = ax[1])\n",
    "\n",
    "ax[1].set_title('Timestep: 1')\n",
    "plt.show()"
   ]
  },
  {
   "cell_type": "code",
   "execution_count": null,
   "id": "a69ff314-2bf3-40f6-8f27-bfe04348ba07",
   "metadata": {},
   "outputs": [],
   "source": [
    "type(nx.from_edgelist([['A','C'],\n",
    "                 ['B','D']]))"
   ]
  },
  {
   "cell_type": "markdown",
   "id": "ee119abf-aca2-4cee-be00-76cf251ee7d4",
   "metadata": {},
   "source": [
    "Since the degrees of the nodes dont change timestep to timestep the overall degree distribution is preserved, the infection will be assumed to still spread at a constant rate of of T and recover at the rate of $\\mu$.\n",
    "\n",
    "As $\\rho$ approaches $\\infty$  the model approaches a mass action model, (the general SIR compartmental model), because the rate of mixing is so high that all individuals are interacting with each other. The probability of being connected to an infectious node becomes proportional to the number of nodes in each state.\n"
   ]
  },
  {
   "cell_type": "code",
   "execution_count": null,
   "id": "a4d24cc6-ded7-4b6d-9652-dea3d007d99a",
   "metadata": {},
   "outputs": [],
   "source": []
  },
  {
   "cell_type": "markdown",
   "id": "50b5d3f4-e1fe-40f1-9a75-5ae5ac72f24b",
   "metadata": {},
   "source": [
    "The intials conditions for the model are derived as such\n",
    "\n",
    "$$\n",
    "\\theta(t = 0) = 1 - \\epsilon\n",
    "$$\n",
    "\n",
    "$$\n",
    "p_{I}(t = 0) = \\frac{M_{SI}}{M_{S}} = \\frac{ \\epsilon}{1 -  \\epsilon}\n",
    "$$\n",
    "\n",
    "$$\n",
    "p_{S}(t = 0) =  \\frac{M_{SS}}{M_{S}}= \\frac{1 - 2\\epsilon}{1 -  \\epsilon}\n",
    "$$\n",
    "\n",
    "$$\n",
    "S(t = 0) = g(1 - \\epsilon)\n",
    "$$\n",
    "\n",
    "$$\n",
    "M_{I} (t = 0) = \\epsilon\n",
    "$$\n",
    "\n",
    "$$\n",
    "I(t = 0) = 1 - g(1 - \\epsilon)\n",
    "$$"
   ]
  },
  {
   "cell_type": "markdown",
   "id": "4d70456d-9ba9-4e4b-90ba-925c66787e5e",
   "metadata": {},
   "source": [
    "Dictionary\n",
    "\n",
    "$M_{SI}$ - Denotes the fraction of arcs with a susceptible ego and an infectious alter\n",
    "\n",
    "$M_{SS}$ - Denotes the fraction of arcs with a susceptible ego and an susceptible alter\n",
    "\n",
    "$M_{S}$ - Denotes the fraction of arcs with a susceptible ego and an alter of any state \n",
    "\n",
    "$\\theta$ The fraction of degree one nodes that remain susceptible at time t\n",
    "\n",
    "$p_{I}$ The probability that an arc with a susceptible ego has an infectious alter, $\\frac{M_{SI}}{M_{S}}$\n",
    "\n",
    "$p_{S}$ The probability that an arc with a susceptible ego has a susceptible alter, $\\frac{M_{SS}}{M_{S}}$\n",
    "\n",
    "$S$ The fraction of nodes which remain susceptible at time t\n",
    "\n",
    "$M_{I}$- Denotes the fraction of arcs with an infecetious ego and an alter of any state \n",
    "\n",
    "$I$ Proportion of Infected\n"
   ]
  },
  {
   "cell_type": "markdown",
   "id": "2b57361c-97d0-409f-95c4-6efe948aae50",
   "metadata": {},
   "source": [
    "# the NE Equation\n",
    "\n",
    "$$\n",
    "\\dot{\\theta} = -r p_{I} \\theta\n",
    "$$\n",
    "\n",
    "$$\n",
    "\\dot{p_{I}} = rp_{S}\\rho_{I}\\theta \\frac{g''(\\theta)}{g'(\\theta)} - rp_{I} (1 - p_{I}) - p_{I}\\mu+\\rho(M_{I} - p_{I})\n",
    "$$\n",
    "\n",
    "$$\n",
    "\\dot{ p_{S}} = rp_{S}p_{I}(1 - \\theta\\frac{g''(\\theta)}{g'(\\theta)} + \\rho(\\frac{\\theta g'(\\theta)}{g'(1)} - p_{S})\n",
    "$$\n",
    "\n",
    "$$\n",
    "\\dot{S} = -rp_{I}\\theta g'(\\theta)\n",
    "$$\n",
    "\n",
    "$$\n",
    "\\dot{M_{I}} = -\\mu M_{I} + rp_{I}(\\frac{\\theta^2 g''(\\theta) + \\theta g'(\\theta)}{g'(1)})\n",
    "$$\n",
    "\n",
    "$$\n",
    "\\dot{I} = rp_{I} \\theta g'(\\theta) - \\mu I\n",
    "$$"
   ]
  },
  {
   "cell_type": "code",
   "execution_count": null,
   "id": "2654d1b9-8c50-4af0-bbb0-769352ef843e",
   "metadata": {},
   "outputs": [],
   "source": [
    "def derv(x,t,lam,rr,mm,pp, calc_g, calc_g1, calc_g2):\n",
    "    #y[0]= change of theta \n",
    "    #y[1]= change of p_infec \n",
    "    #y[2]= change of p_suscep \n",
    "    #y[3]= proportion of S \n",
    "    #y[4]= change of M_I \n",
    "    #y[5]= change of I\n",
    "    y=list(range(6))#zeros(6);\n",
    "    y[0]= -rr *x[1] *x[0] \n",
    "    y[1]= rr *x[2] * x[1] * x[0] * calc_g2(x[0],lam)/calc_g1(x[0],lam) - rr *x[1] * (1-x[1])-x[1]*mm+pp*(x[4]-x[1]) \n",
    "    y[2]=rr*x[2]*x[1]*(1-x[0]*calc_g2(x[0],lam)/calc_g1(x[0],lam))+pp*(x[0]*calc_g1(x[0],lam)/calc_g1(1,lam)-x[2])\n",
    "    y[3]=-rr*x[1]*x[0]*calc_g1(x[0],lam) \n",
    "    y[4]=-mm*x[4]+rr*x[1]*(x[0]**2*calc_g2(x[0],lam)+x[0]*calc_g1(x[0],lam)/calc_g1(1,lam)) \n",
    "    y[5]=rr*x[1]*x[0]*calc_g1(x[0],lam)-mm*x[5]\n",
    "    return(y)"
   ]
  },
  {
   "cell_type": "code",
   "execution_count": null,
   "id": "a0f847a0-2007-47a9-8db4-7b66f0382c0c",
   "metadata": {},
   "outputs": [],
   "source": [
    "# lamda = 1.5w_pgf.powerlaw_p_vec(2.218, 75)\n",
    "lamda = None\n",
    "r = 0.2 # force of infection (trasnsmission rate\n",
    "mu = 0.1 # reocvery rate\n",
    "ro = 0.25 # how fast people change partners (mixing rate)\n",
    "epsilon = 0.001\n",
    "time = list(range(0,200))\n",
    "# time = np.linspace(0,200,0.1)\n",
    "init = [1 - epsilon, # theta\n",
    "       epsilon / (1 - epsilon), #force of infection \n",
    "       (1 - 2*epsilon)/(1 - epsilon), # represents the probability that an arc with a susceptible ego has a susceptible alter\n",
    "       calc_g( 1 - epsilon, lamda), #\n",
    "       epsilon, #\n",
    "       1 - calc_g( 1- epsilon, lamda) # \n",
    "       ]"
   ]
  },
  {
   "cell_type": "code",
   "execution_count": null,
   "id": "80dfcf33-bc0b-424e-aac2-fc0700a02f5c",
   "metadata": {},
   "outputs": [],
   "source": [
    "out=sp_int.odeint(derv, init, time, args=(lamda,r,mu,ro, \n",
    "                                          calc_g,calc_g1,calc_g2))"
   ]
  },
  {
   "cell_type": "code",
   "execution_count": null,
   "id": "971b1d07-14da-49ec-a627-84883d4d37d3",
   "metadata": {},
   "outputs": [],
   "source": [
    "plt.plot(out[:,0], alpha =0.5, label = 'Fraction degree 1 nodes sus') # change of theta\n",
    "plt.plot(out[:,1], label = 'Prob Sus ego to infectious alter',\n",
    "        )#change of p_infec \n",
    "plt.plot(out[:,2], label = 'Prob Sus ego to Sus alter')# change of p_suscep \n",
    "plt.plot(out[:,3], label = 'Frac S', ls = '--') #proportion of S\n",
    "plt.plot(out[:,4], label = 'Infectious ego with an alter of any state')# change of M_I \n",
    "plt.plot(out[:,5], alpha = 0.5, label = 'Frac I', ls = '--') # change of I\n",
    "# recovered\n",
    "plt.plot(1 - (out[:,5]+out[:,3]), alpha = 0.5, label= 'Frac R', ls = '--')\n",
    "plt.plot(1 - (out[:,5]+out[:,3]) + out[:,5], alpha = 0.5, c = 'black',label= 'CS Incidennce', ls = ':')\n",
    "plt.legend(title = 'Compartments', bbox_to_anchor = (1.1,0.8))\n",
    "# plt.yscale('log')\n",
    "plt.show()"
   ]
  },
  {
   "cell_type": "code",
   "execution_count": null,
   "id": "abc720bd-bf38-426b-a060-838037f8d023",
   "metadata": {},
   "outputs": [],
   "source": [
    "plt.plot(out[:,0], alpha =0.5, label = 'Fraction degree 1 nodes sus') # change of theta\n",
    "plt.plot(out[:,1], label = 'Prob Sus ego to infectious alter',\n",
    "        )#change of p_infec \n",
    "plt.plot(out[:,2], label = 'Prob Sus ego to Sus alter')# change of p_suscep \n",
    "plt.plot(out[:,3], label = 'Frac S', ls = '--') #proportion of S\n",
    "plt.plot(out[:,4], label = 'Infectious ego with an alter of any state')# change of M_I \n",
    "plt.plot(out[:,5], alpha = 0.5, label = 'Frac I', ls = '--') # change of I\n",
    "# recovered\n",
    "plt.plot(1 - (out[:,5]+out[:,3]), alpha = 0.5, label= 'Frac R', ls = '--')\n",
    "plt.plot(1 - (out[:,5]+out[:,3]) + out[:,5], alpha = 0.5, c = 'black',label= 'CS Incidennce', ls = ':')\n",
    "plt.legend(title = 'Compartments', bbox_to_anchor = (1.1,0.8))\n",
    "plt.show()"
   ]
  },
  {
   "cell_type": "code",
   "execution_count": null,
   "id": "f6a3bee7-7166-4b43-9686-1f993195c1a7",
   "metadata": {},
   "outputs": [],
   "source": [
    "# plt.plot(pop_tap[:,0], alpha =0.5) # change of theta\n",
    "# plt.plot(pop_tap[:,1])#change of p_infec \n",
    "# plt.plot(pop_tap[:,2]) change of p_suscep \n",
    "plt.plot(out[:,3], label = 'S') #proportion of S\n",
    "# plt.plot(pop_tap[:,4], alpha = 0.5) change of M_I \n",
    "plt.plot(out[:,5], alpha = 0.5, label = 'I') # change of I\n",
    "# recovered\n",
    "plt.plot(1 - (out[:,5]+out[:,3]), alpha = 0.5, label= 'R')\n",
    "plt.legend(title = 'Compartment')"
   ]
  },
  {
   "cell_type": "code",
   "execution_count": null,
   "id": "362c2080-8f06-4389-8e0d-57199a86d913",
   "metadata": {},
   "outputs": [],
   "source": [
    "plt.plot(out[:,0], alpha =0.5, label = 'Fraction degree 1 nodes sus') # change of theta\n",
    "plt.plot(out[:,1], label = 'Prob Sus ego to infectious alter',\n",
    "        )#change of p_infec \n",
    "plt.plot(out[:,2], label = 'Prob Sus ego to Sus alter')# change of p_suscep \n",
    "plt.plot(out[:,3], label = 'Frac S', ls = '--') #proportion of S\n",
    "plt.plot(out[:,4], label = 'Infectious ego with an alter of any state')# change of M_I \n",
    "plt.plot(out[:,5], alpha = 0.5, label = 'Frac I', ls = '--') # change of I\n",
    "# recovered\n",
    "plt.plot(1 - (out[:,5]+out[:,3]), alpha = 0.5, label= 'Frac R', ls = '--')\n",
    "plt.plot(1 - (out[:,5]+out[:,3]) + out[:,5], alpha = 0.5, c = 'black',label= 'CS Incidennce', ls = ':')\n",
    "plt.legend(title = 'Compartments', bbox_to_anchor = (1.1,0.8))\n",
    "plt.show()"
   ]
  },
  {
   "cell_type": "code",
   "execution_count": null,
   "id": "fa887399-07ec-4a6a-978e-815d70dbd802",
   "metadata": {},
   "outputs": [],
   "source": []
  },
  {
   "cell_type": "code",
   "execution_count": null,
   "id": "5c421c38-28c5-4d8d-b8bb-bc7e91b4fd4e",
   "metadata": {},
   "outputs": [],
   "source": []
  }
 ],
 "metadata": {
  "kernelspec": {
   "display_name": "sklearn_env",
   "language": "python",
   "name": "sklearn"
  },
  "language_info": {
   "codemirror_mode": {
    "name": "ipython",
    "version": 3
   },
   "file_extension": ".py",
   "mimetype": "text/x-python",
   "name": "python",
   "nbconvert_exporter": "python",
   "pygments_lexer": "ipython3",
   "version": "3.9.7"
  }
 },
 "nbformat": 4,
 "nbformat_minor": 5
}
