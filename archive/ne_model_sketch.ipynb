{
 "cells": [
  {
   "cell_type": "code",
   "execution_count": 9,
   "id": "0f907e3b-27a7-4d91-926f-1e2b6ad17e97",
   "metadata": {},
   "outputs": [],
   "source": [
    "import scipy as sp\n",
    "import scipy.integrate as sp_int\n",
    "import matplotlib.pyplot as plt\n",
    "import math\n",
    "import numpy as np"
   ]
  },
  {
   "cell_type": "code",
   "execution_count": 19,
   "id": "70ed4ca3-8586-4d7b-abac-4dc2de062931",
   "metadata": {},
   "outputs": [],
   "source": [
    "def powerlaw_p_vec(alpha:float, max_deg:int):\n",
    "    \"\"\"\n",
    "    Create the power law probability vector, required for the powerlaw probability generating function below\n",
    "    \"\"\"\n",
    "    dist = [0]*(max_deg+1)\n",
    "    alpha = float(alpha)\n",
    "    denom = 0.0\n",
    "    for i in range(1, max_deg+1):\n",
    "        denom += i**(-1*alpha)\n",
    "    for k in range(1, max_deg+1):\n",
    "        dist[k] = k**(-1*alpha)/denom\n",
    "    \n",
    "    return dist\n",
    "\n",
    "def calc_g(p_vec, x):\n",
    "    \"\"\"\n",
    "    Probability generating function for generic powerlaw distribution\n",
    "    \"\"\"\n",
    "    g_val = 0\n",
    "    for k in range(len(p_vec)):\n",
    "        g_val = g_val + p_vec[k]*x**(k)\n",
    "    return g_val\n",
    "\n",
    "def calc_g1(p_vec, x):\n",
    "    \"\"\"\n",
    "    First derivative Probability generating function for generic powerlaw distribution\n",
    "    \"\"\"\n",
    "    g_val = 0\n",
    "    for k in range(len(p_vec)):\n",
    "        g_val = g_val + (k)*p_vec[k]*x**(k-1)\n",
    "    return g_val\n",
    "\n",
    "def calc_g2(p_vec, x):\n",
    "    \"\"\"\n",
    "    Second derivate Probability generating function for generic powerlaw distribution\n",
    "    \"\"\"\n",
    "    g_val = 0\n",
    "    for k in range(len(p_vec)):\n",
    "        g_val = g_val + (k)*(k-1)*p_vec[k]*x**(k-2)\n",
    "    return g_val"
   ]
  },
  {
   "cell_type": "code",
   "execution_count": 4,
   "id": "495651a1-196d-454d-b9ce-466f8dbd9a16",
   "metadata": {},
   "outputs": [],
   "source": [
    "def calc_poisson_g(lambda_g, x):\n",
    "    \"\"\"\n",
    "    Probability generating function for poisson distribution\n",
    "    \"\"\"\n",
    "    \n",
    "    return math.e**(lambda_g * (x-1)) \n",
    "\n",
    "def calc_poisson_g_fd(lambda_g, x):\n",
    "    \"\"\"\n",
    "    First derivative Probability generating function for poisson distribution\n",
    "    \"\"\"\n",
    "    \n",
    "    return lambda_g * math.e*(lambda_g * (x-1)) \n",
    "\n",
    "def calc_poisson_g_fdd(lambda_g, x):\n",
    "    \"\"\"\n",
    "    Second derivative Probability generating function for poisson distribution\n",
    "    \"\"\"\n",
    "    \n",
    "    return (lambda_g**2) * math.e**(lambda_g * (x-1)) \n",
    "\n",
    "def powerlaw_p_vec(alpha:float, max_deg:int):\n",
    "    \"\"\"\n",
    "    Create the power law probability vector, required for the powerlaw probability generating function below\n",
    "    \"\"\"\n",
    "    dist = [0]*(max_deg+1)\n",
    "    alpha = float(alpha)\n",
    "    denom = 0.0\n",
    "    for i in range(1, max_deg+1):\n",
    "        denom += i**(-1*alpha)\n",
    "    for k in range(1, max_deg+1):\n",
    "        dist[k] = k**(-1*alpha)/denom\n",
    "    \n",
    "    return dist\n",
    "\n",
    "def calc_powerlaw_g(p_vec, x):\n",
    "    \"\"\"\n",
    "    Probability generating function for generic powerlaw distribution\n",
    "    \"\"\"\n",
    "    g_val = 0\n",
    "    for k in range(len(p_vec)):\n",
    "        g_val = g_val + p_vec[k]*x**(k)\n",
    "    return g_val\n",
    "\n",
    "def calc_powerlaw_g_fd(p_vec, x):\n",
    "    \"\"\"\n",
    "    First derivative Probability generating function for generic powerlaw distribution\n",
    "    \"\"\"\n",
    "    g_val = 0\n",
    "    for k in range(len(p_vec)):\n",
    "        g_val = g_val + (k)*p_vec[k]*x**(k-1)\n",
    "    return g_val\n",
    "\n",
    "def calc_powerlaw_g_fd(p_vec, x):\n",
    "    \"\"\"\n",
    "    Second derivate Probability generating function for generic powerlaw distribution\n",
    "    \"\"\"\n",
    "    g_val = 0\n",
    "    for k in range(len(p_vec)):\n",
    "        g_val = g_val + (k)*(k-1)*p_vec[k]*x**(k-2)\n",
    "    return g_val\n",
    "\n"
   ]
  },
  {
   "cell_type": "code",
   "execution_count": 23,
   "id": "83a3cd82-c100-4e18-b3bc-f5f658108d5d",
   "metadata": {},
   "outputs": [],
   "source": [
    "def calc_g(lambda_g, x):\n",
    "    \"\"\"\n",
    "    Probability generating function for poisson distribution\n",
    "    \"\"\"\n",
    "    \n",
    "    return math.e**(lambda_g * (x-1)) \n",
    "\n",
    "def calc_g1(lambda_g, x):\n",
    "    \"\"\"\n",
    "    First derivative Probability generating function for poisson distribution\n",
    "    \"\"\"\n",
    "    \n",
    "    return lambda_g * math.e*(lambda_g * (x-1)) \n",
    "\n",
    "def calc_g2(lambda_g, x):\n",
    "    \"\"\"\n",
    "    Second derivative Probability generating function for poisson distribution\n",
    "    \"\"\"\n",
    "    \n",
    "    return (lambda_g**2) * math.e**(lambda_g * (x-1)) "
   ]
  },
  {
   "cell_type": "code",
   "execution_count": 24,
   "id": "cceddfe5-0c19-4c8a-9a68-60e918c43fd6",
   "metadata": {},
   "outputs": [],
   "source": [
    "def derv(x, t, lam, rr, mm, pp):\n",
    "    #y[0]= change of theta \n",
    "    #y[1]= change of p_infec \n",
    "    #y[2]= change of p_suscep \n",
    "    #y[3]= proportion of S \n",
    "    #y[4]= change of M_I \n",
    "    #y[5]= change of I\n",
    "    \n",
    "    # y = np.zeros(6)\n",
    "    # y[0] = -rr * x[1] * x[0]\n",
    "    # y[1] = rr * x[2] * x[1] * x[0] * \\\n",
    "    # calc_powerlaw_g(lam, x[0])/calc_powerlaw_g_fd(lam, x[0])\\\n",
    "    # - rr*x[1]*(1-x[1])-x[1]*mm+pp*(x[4]-x[1])\n",
    "    # y[2] = rr * x[2]\n",
    "    \n",
    "    y=np.zeros(6);\n",
    "    y[0]=-rr*x[1]*x[0] \n",
    "    y[1]=rr*x[2]*x[1]*x[0]*calc_g2(lam,x[0])/calc_g1(lam,x[0])-rr*x[1]*(1-x[1])-x[1]*mm+pp*(x[4]-x[1]) \n",
    "    y[2]=rr*x[2]*x[1]*(1-x[0]*calc_g2(lam,x[0])/calc_g1(lam,x[0]))+pp*(x[0]*calc_g1(lam,x[0])/calc_g1(lam,1)-x[2])\n",
    "    y[3]=-rr*x[1]*x[0]*calc_g1(lam,x[0]) \n",
    "    y[4]=-mm*x[4]+rr*x[1]*(x[0]**2*calc_g2(lam,x[0])+x[0]*calc_g1(lam,x[0])/calc_g1(lam,1)) \n",
    "    y[5]=rr*x[1]*x[0]*calc_g1(lam,x[0])-mm*x[5]\n",
    "    \n",
    "    return(y)"
   ]
  },
  {
   "cell_type": "code",
   "execution_count": 54,
   "id": "add78a96-cfd6-4a72-ab96-da4b84f43701",
   "metadata": {},
   "outputs": [],
   "source": [
    "N = 10_000\n",
    "episilon = 0.0001\n",
    "\n",
    "time = list(range(0,200))#np.linspace(0, 200, 1)\n",
    "lamda = 2.5\n",
    "r = 0.2\n",
    "mu = 0.2\n",
    "ro = 0.2\n",
    "\n",
    "\n",
    "    #y[0]= change of theta \n",
    "    #y[1]= change of p_infec \n",
    "    #y[2]= change of p_suscep \n",
    "    #y[3]= proportion of S \n",
    "    #y[4]= change of M_I \n",
    "    #y[5]= change of I\n",
    "    \n",
    "init = [1 - episilon, \n",
    "        episilon/(1-episilon), \n",
    "        (1 - (2*episilon))/(1 - episilon), \n",
    "       calc_g(lamda, 1 - episilon),\n",
    "       episilon, \n",
    "       1 - calc_g(lamda, 1 - episilon)]"
   ]
  },
  {
   "cell_type": "code",
   "execution_count": 56,
   "id": "cad7dfa9-7437-4d0b-9c5f-47aa644393db",
   "metadata": {},
   "outputs": [
    {
     "data": {
      "text/plain": [
       "[0.9999,\n",
       " 0.00010001000100010001,\n",
       " 0.9998999899989999,\n",
       " 0.999750031247396,\n",
       " 0.0001,\n",
       " 0.00024996875260396845]"
      ]
     },
     "execution_count": 56,
     "metadata": {},
     "output_type": "execute_result"
    }
   ],
   "source": [
    "init"
   ]
  },
  {
   "cell_type": "code",
   "execution_count": 57,
   "id": "ab207afd-27a0-463e-9704-2b190e4dbcd7",
   "metadata": {},
   "outputs": [
    {
     "name": "stderr",
     "output_type": "stream",
     "text": [
      "<ipython-input-24-aed0274ad1ce>:19: RuntimeWarning: divide by zero encountered in double_scalars\n",
      "  y[2]=rr*x[2]*x[1]*(1-x[0]*calc_g2(lam,x[0])/calc_g1(lam,x[0]))+pp*(x[0]*calc_g1(lam,x[0])/calc_g1(lam,1)-x[2])\n",
      "<ipython-input-24-aed0274ad1ce>:21: RuntimeWarning: divide by zero encountered in double_scalars\n",
      "  y[4]=-mm*x[4]+rr*x[1]*(x[0]**2*calc_g2(lam,x[0])+x[0]*calc_g1(lam,x[0])/calc_g1(lam,1))\n"
     ]
    }
   ],
   "source": [
    "out=sp_int.odeint(derv, init, time, args=(lamda,r,mu,ro))"
   ]
  },
  {
   "cell_type": "code",
   "execution_count": 72,
   "id": "921e7d2a-16e2-4706-8495-b758e23bf7a8",
   "metadata": {},
   "outputs": [
    {
     "data": {
      "text/plain": [
       "[<matplotlib.lines.Line2D at 0x1610ff6a0>]"
      ]
     },
     "execution_count": 72,
     "metadata": {},
     "output_type": "execute_result"
    },
    {
     "data": {
      "image/png": "[encoded data removed]",
      "text/plain": [
       "<Figure size 432x288 with 1 Axes>"
      ]
     },
     "metadata": {
      "needs_background": "light"
     },
     "output_type": "display_data"
    }
   ],
   "source": [
    "plt.plot(out[:,0], alpha =0.5)\n",
    "plt.plot(out[:,1])\n",
    "plt.plot(out[:,2])\n",
    "plt.plot(out[:,3])\n",
    "plt.plot(out[:,4], alpha = 0.5)\n",
    "plt.plot(out[:,5], alpha = 0.5)\n"
   ]
  },
  {
   "cell_type": "code",
   "execution_count": null,
   "id": "9f186608-db25-428a-904f-ad6371be53e0",
   "metadata": {},
   "outputs": [],
   "source": [
    "# poisson NE model"
   ]
  },
  {
   "cell_type": "code",
   "execution_count": 102,
   "id": "44345e92-9978-4935-b379-1756abdc574c",
   "metadata": {},
   "outputs": [],
   "source": [
    "def calc_g(lambda_g, x):\n",
    "    \"\"\"\n",
    "    Probability generating function for poisson distribution\n",
    "    \"\"\"\n",
    "    \n",
    "    return math.e**(lambda_g * (x-1)) \n",
    "\n",
    "def calc_g1(lambda_g, x):\n",
    "    \"\"\"\n",
    "    First derivative Probability generating function for poisson distribution\n",
    "    \"\"\"\n",
    "    \n",
    "    return lambda_g * math.e**(lambda_g * (x-1)) \n",
    "\n",
    "def calc_g2(lambda_g, x):\n",
    "    \"\"\"\n",
    "    Second derivative Probability generating function for poisson distribution\n",
    "    \"\"\"\n",
    "    return (lambda_g**2) * math.e**(lambda_g * (x-1)) \n",
    "\n",
    "# def calc_g(lamda,x): \n",
    "#     g_val=math.e**(lamda*(x-1)) \n",
    "#     return g_val\n",
    "# def calc_g1(lamda,x): \n",
    "#     g_val=lamda*math.e**(lamda*(x-1)) \n",
    "#     return g_val\n",
    "# def calc_g2(lamda,x): \n",
    "#     g_val=(lamda**2)*math.e**(lamda*(x-1)) \n",
    "#     return g_val"
   ]
  },
  {
   "cell_type": "code",
   "execution_count": 267,
   "id": "1f394a93-e632-4c2c-97a2-affc3e77b121",
   "metadata": {},
   "outputs": [],
   "source": [
    "def derv(x,t,lam,rr,mm,pp):\n",
    "    #y[0]= change of theta \n",
    "    #y[1]= change of p_infec \n",
    "    #y[2]= change of p_suscep \n",
    "    #y[3]= proportion of S \n",
    "    #y[4]= change of M_I \n",
    "    #y[5]= change of I\n",
    "    y=list(range(6))#zeros(6);\n",
    "    y[0]=-rr*x[1]*x[0] \n",
    "    y[1]=rr*x[2]*x[1]*x[0]*calc_g2(lam,x[0])/calc_g1(lam,x[0])-rr*x[1]*(1-x[1])-x[1]*mm+pp*(x[4]-x[1]) \n",
    "    y[2]=rr*x[2]*x[1]*(1-x[0]*calc_g2(lam,x[0])/calc_g1(lam,x[0]))+pp*(x[0]*calc_g1(lam,x[0])/calc_g1(lam,1)-x[2])\n",
    "    y[3]=-rr*x[1]*x[0]*calc_g1(lam,x[0]) \n",
    "    y[4]=-mm*x[4]+rr*x[1]*(x[0]**2*calc_g2(lam,x[0])+x[0]*calc_g1(lam,x[0])/calc_g1(lam,1)) \n",
    "    y[5]=rr*x[1]*x[0]*calc_g1(lam,x[0])-mm*x[5]\n",
    "    return(y)\n",
    "\n",
    "lamda = 2.5\n",
    "r = 0.2\n",
    "mu = 0.2\n",
    "ro = 0.2\n",
    "epsilon = 0.001\n",
    "\n",
    "init = [1 - episilon,\n",
    "       epsilon / (1 - epsilon),\n",
    "       (1 - 2*epsilon)/(1 - epsilon),\n",
    "       calc_g(lamda, 1 - epsilon),\n",
    "       epsilon,\n",
    "       1 - calc_g(lamda, 1- epsilon)]\n",
    "\n",
    "out=sp_int.odeint(derv, init, time, args=(lamda,r,mu,ro))"
   ]
  },
  {
   "cell_type": "code",
   "execution_count": 268,
   "id": "fa5ca2da-9296-4b2c-984e-bef95b1f8ad6",
   "metadata": {
    "scrolled": true,
    "tags": []
   },
   "outputs": [],
   "source": [
    "# out"
   ]
  },
  {
   "cell_type": "code",
   "execution_count": 269,
   "id": "75a6fae3-801b-49f1-8f2d-6cf2b175025e",
   "metadata": {},
   "outputs": [],
   "source": [
    "# plt.plot(out[:,0], alpha =0.5)\n",
    "# plt.plot(out[:,1])\n",
    "# plt.plot(out[:,2])\n",
    "# plt.plot(out[:,3])\n",
    "# plt.plot(out[:,4], alpha = 0.5)\n",
    "# plt.plot(out[:,5], alpha = 0.5)\n",
    "\n"
   ]
  },
  {
   "cell_type": "code",
   "execution_count": 270,
   "id": "f794e291-fb4c-4d01-9eae-297d85432430",
   "metadata": {},
   "outputs": [],
   "source": [
    "# plt.plot(out[:,0], alpha =0.5)\n",
    "# plt.plot(out[:,1])\n",
    "# plt.plot(out[:,2])\n",
    "# plt.plot(out[:,3])\n",
    "# plt.plot(out[:,4], alpha = 0.5)\n",
    "# plt.plot(out[:,5], alpha = 0.5)\n",
    "\n",
    "\n"
   ]
  },
  {
   "cell_type": "code",
   "execution_count": 271,
   "id": "986562f1-4392-40ef-8c0b-d7c9a72e91e3",
   "metadata": {},
   "outputs": [],
   "source": [
    "# J = I + R"
   ]
  },
  {
   "cell_type": "code",
   "execution_count": 272,
   "id": "a2a3bb0d-c59b-4e2a-8643-12ba8b2cb028",
   "metadata": {},
   "outputs": [],
   "source": [
    "N = 10_000\n",
    "pop_tap = out *N"
   ]
  },
  {
   "cell_type": "code",
   "execution_count": 273,
   "id": "efe1f3c8-536c-496d-ae24-7fffdbeae299",
   "metadata": {},
   "outputs": [
    {
     "data": {
      "text/plain": [
       "<matplotlib.legend.Legend at 0x1639d31c0>"
      ]
     },
     "execution_count": 273,
     "metadata": {},
     "output_type": "execute_result"
    },
    {
     "data": {
      "image/png": "[encoded data removed]",
      "text/plain": [
       "<Figure size 432x288 with 1 Axes>"
      ]
     },
     "metadata": {
      "needs_background": "light"
     },
     "output_type": "display_data"
    }
   ],
   "source": [
    "# plt.plot(pop_tap[:,0], alpha =0.5) # change of theta\n",
    "# plt.plot(pop_tap[:,1])#\n",
    "# plt.plot(pop_tap[:,2])\n",
    "plt.plot(pop_tap[:,3], label = 'S')\n",
    "# plt.plot(pop_tap[:,4], alpha = 0.5)\n",
    "plt.plot(pop_tap[:,5], alpha = 0.5, label = 'I')\n",
    "# recovered\n",
    "plt.plot(10_000 - (pop_tap[:,5]+pop_tap[:,3]), alpha = 0.5, label= 'R')\n",
    "plt.legend()"
   ]
  },
  {
   "cell_type": "code",
   "execution_count": 274,
   "id": "7f573cab-e382-4af3-8b1d-c6cb450dfedf",
   "metadata": {},
   "outputs": [
    {
     "data": {
      "text/plain": [
       "array([4522.65942243])"
      ]
     },
     "execution_count": 274,
     "metadata": {},
     "output_type": "execute_result"
    }
   ],
   "source": [
    "N - (pop_tap[:,5]+pop_tap[:,3])[199:]"
   ]
  },
  {
   "cell_type": "code",
   "execution_count": 275,
   "id": "eb7826ef-2fb4-4596-89fd-d086f1d1c95a",
   "metadata": {},
   "outputs": [
    {
     "data": {
      "text/plain": [
       "22625.780909854468"
      ]
     },
     "execution_count": 275,
     "metadata": {},
     "output_type": "execute_result"
    }
   ],
   "source": [
    "pop_tap[:,5].sum()"
   ]
  },
  {
   "cell_type": "code",
   "execution_count": null,
   "id": "0745cd41-032a-4b8a-a155-71562d577890",
   "metadata": {},
   "outputs": [],
   "source": [
    "# total epidemic 3716.18 people. "
   ]
  },
  {
   "cell_type": "code",
   "execution_count": 145,
   "id": "410c835a-b233-482f-9988-bbf0a0e5cbac",
   "metadata": {},
   "outputs": [
    {
     "data": {
      "text/plain": [
       "array([10000.        ,  9999.67107445,  9999.64889234,  9999.4957714 ,\n",
       "        9998.91894075,  9997.65041002,  9995.36452835,  9991.60222899,\n",
       "        9985.67896556,  9976.5536815 ,  9962.62983832,  9941.45041259,\n",
       "        9909.24444358,  9860.30492587,  9786.2715867 ,  9675.60433111,\n",
       "        9513.82864398,  9285.26112234,  8976.46817057,  8580.60751079,\n",
       "        8100.80722374,  7550.87109113,  6952.91880118,  6333.038585  ,\n",
       "        5716.66828045,  5125.09930289,  4573.69826637,  4071.70776883,\n",
       "        3623.09375659,  3227.85519952,  2883.35923634,  2585.46317331,\n",
       "        2329.34385068,  2110.05057878,  1922.83836964,  1763.34472696,\n",
       "        1627.66426402,  1512.36151015,  1414.44940885,  1331.35095182,\n",
       "        1260.85455273,  1201.06890352,  1150.38046966,  1107.41493127,\n",
       "        1071.00305957,  1040.15090254,  1014.01401702,   991.8753012 ,\n",
       "         973.12600924,   957.24954406,   943.80759039,   932.42837648,\n",
       "         922.79662018,   914.64499436,   907.74690503,   901.91024931,\n",
       "         896.97225649,   892.79503663,   889.26176016,   886.27345493,\n",
       "         883.74631757,   881.60940036,   879.80259136,   878.2750088 ,\n",
       "         876.9836686 ,   875.89215998,   874.96959877,   874.18984227,\n",
       "         873.53083683,   872.97403803,   872.50362846,   872.10606995,\n",
       "         871.77020243,   871.48647069,   871.24678635,   871.0443325 ,\n",
       "         870.87333269,   870.72891962,   870.60696056,   870.50396402,\n",
       "         870.4169758 ,   870.34349762,   870.28145088,   870.22908023,\n",
       "         870.18487793,   870.14755844,   870.116047  ,   870.08944436,\n",
       "         870.06698861,   870.04801827,   870.03201797,   870.01852049,\n",
       "         870.00712669,   869.9975192 ,   869.98940342,   869.98255809,\n",
       "         869.97677691,   869.97187529,   869.96778541,   869.96431363,\n",
       "         869.96138407,   869.9589125 ,   869.95681964,   869.95505136,\n",
       "         869.95355934,   869.95229156,   869.95122714,   869.95033648,\n",
       "         869.94956814,   869.94897143,   869.948457  ,   869.9480087 ,\n",
       "         869.94761754,   869.9472807 ,   869.94699816,   869.94676781,\n",
       "         869.94657693,   869.94641514,   869.94627834,   869.94616296,\n",
       "         869.94606542,   869.94598191,   869.94591192,   869.94585463,\n",
       "         869.94580574,   869.94576461,   869.94573077,   869.94570167,\n",
       "         869.94567694,   869.94565633,   869.94563853,   869.94562335,\n",
       "         869.94561078,   869.94560002,   869.94559071,   869.94558286,\n",
       "         869.94557621,   869.94557035,   869.94556528,   869.94556028,\n",
       "         869.94555535,   869.94555099,   869.94554721,   869.94554401,\n",
       "         869.94554139,   869.94553934,   869.94553787,   869.94553698,\n",
       "         869.94553667,   869.94553694,   869.94553764,   869.94553658,\n",
       "         869.94553571,   869.94553503,   869.94553453,   869.94553421,\n",
       "         869.94553409,   869.94553414,   869.94553438,   869.94553481,\n",
       "         869.94553542,   869.94553622,   869.94553481,   869.94553526,\n",
       "         869.9455357 ,   869.94553614,   869.94553658,   869.94553703,\n",
       "         869.94553747,   869.94553791,   869.94553836,   869.9455388 ,\n",
       "         869.94553924,   869.94553965,   869.94553969,   869.94553972,\n",
       "         869.94553976,   869.94553979,   869.94553982,   869.94553986,\n",
       "         869.94553989,   869.94553993,   869.94553996,   869.94553999,\n",
       "         869.94554003,   869.94554006,   869.9455401 ,   869.94554013,\n",
       "         869.94554016,   869.9455402 ,   869.94554023,   869.94554027,\n",
       "         869.9455403 ,   869.94554033,   869.94554037,   869.9455404 ,\n",
       "         869.94554044,   869.94554047,   869.9455405 ,   869.94554054])"
      ]
     },
     "execution_count": 145,
     "metadata": {},
     "output_type": "execute_result"
    }
   ],
   "source": []
  },
  {
   "cell_type": "code",
   "execution_count": null,
   "id": "604f5f0a-fddb-4729-a993-94dba07a8aac",
   "metadata": {},
   "outputs": [],
   "source": []
  }
 ],
 "metadata": {
  "kernelspec": {
   "display_name": "sklearn_env",
   "language": "python",
   "name": "sklearn"
  },
  "language_info": {
   "codemirror_mode": {
    "name": "ipython",
    "version": 3
   },
   "file_extension": ".py",
   "mimetype": "text/x-python",
   "name": "python",
   "nbconvert_exporter": "python",
   "pygments_lexer": "ipython3",
   "version": "3.9.7"
  }
 },
 "nbformat": 4,
 "nbformat_minor": 5
}
