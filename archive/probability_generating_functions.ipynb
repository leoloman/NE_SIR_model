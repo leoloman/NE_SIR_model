{
 "cells": [
  {
   "cell_type": "code",
   "execution_count": 1,
   "id": "c3f6b365-43bc-4a65-a930-43ee18c450b6",
   "metadata": {},
   "outputs": [],
   "source": [
    "# !curl https://s5.krakenfiles.com/uploads/19-01-2023/0jVT4vLFIZ/music.m4a --output yesyes.m4a"
   ]
  },
  {
   "cell_type": "code",
   "execution_count": 2,
   "id": "186bef1d-0626-4c3f-8d15-ddabef736e42",
   "metadata": {},
   "outputs": [],
   "source": [
    "# !curl https://s5.krakenfiles.com/uploads/19-01-2023/oDLYDGXiVn/music.m4a --output woundup.m"
   ]
  },
  {
   "cell_type": "code",
   "execution_count": 3,
   "id": "bf152167-9ac3-4992-9060-9d9be8ddda5a",
   "metadata": {},
   "outputs": [],
   "source": [
    "import numpy as np"
   ]
  },
  {
   "cell_type": "code",
   "execution_count": 10,
   "id": "4c1c20db-6250-41e4-8d50-44668a4718d7",
   "metadata": {},
   "outputs": [],
   "source": [
    "def get_Pk(G):\n",
    "    r'''\n",
    "    Used in several places so that we can input a graph and then we \n",
    "    can call the methods that depend on the degree distribution\n",
    "    :Arguments: \n",
    "    **G** networkx Graph\n",
    "    \n",
    "    :Returns: \n",
    "    **Pk** dict\n",
    "        ``Pk[k]`` is the proportion of nodes with degree ``k``.\n",
    "    '''\n",
    "\n",
    "    Nk = Counter(dict(G.degree()).values())\n",
    "    Pk = {x:Nk[x]/float(G.order()) for x in Nk.keys()}\n",
    "    return Pk\n",
    "\n",
    "def get_PGF(Pk):\n",
    "    r'''\n",
    "    Given a degree distribution (as a dict), returns the probability \n",
    "    generating function\n",
    "    \n",
    "    :Arguments:\n",
    "    **Pk** dict\n",
    "        Pk[k] is the proportion of nodes with degree k.\n",
    "    :Returns: \n",
    "        \n",
    "    **psi** function\n",
    "            :math:`\\psi(x) = \\sum_k P_k[k] x^k`\n",
    "    '''\n",
    "    maxk = max(Pk.keys())\n",
    "    ks = np.linspace(0,maxk, maxk+1)\n",
    "    Pkarray = np.array([Pk.get(k,0) for k in ks])\n",
    "    print(ks)\n",
    "    print(Pkarray)\n",
    "    return lambda x: Pkarray.dot(x**ks)"
   ]
  },
  {
   "cell_type": "code",
   "execution_count": 30,
   "id": "5f00257a-0134-4b5e-a79d-90e0bc04384c",
   "metadata": {},
   "outputs": [
    {
     "name": "stdout",
     "output_type": "stream",
     "text": [
      "[0. 1. 2. 3.]\n",
      "[0.  0.5 0.  0.5]\n"
     ]
    },
    {
     "data": {
      "text/plain": [
       "65.0"
      ]
     },
     "execution_count": 30,
     "metadata": {},
     "output_type": "execute_result"
    }
   ],
   "source": [
    "get_PGF({1:0.5,3:0.5})(5)"
   ]
  },
  {
   "cell_type": "code",
   "execution_count": 31,
   "id": "87d5dca8-0947-456c-8f2b-54ad581da6c2",
   "metadata": {},
   "outputs": [
    {
     "data": {
      "text/plain": [
       "65.0"
      ]
     },
     "execution_count": 31,
     "metadata": {},
     "output_type": "execute_result"
    }
   ],
   "source": [
    "(5**3 +5 )/2"
   ]
  },
  {
   "cell_type": "code",
   "execution_count": null,
   "id": "329df141-6b50-4eba-ae16-93fefcdb93f2",
   "metadata": {},
   "outputs": [],
   "source": []
  }
 ],
 "metadata": {
  "kernelspec": {
   "display_name": "Python 3 (ipykernel)",
   "language": "python",
   "name": "python3"
  },
  "language_info": {
   "codemirror_mode": {
    "name": "ipython",
    "version": 3
   },
   "file_extension": ".py",
   "mimetype": "text/x-python",
   "name": "python",
   "nbconvert_exporter": "python",
   "pygments_lexer": "ipython3",
   "version": "3.9.15"
  }
 },
 "nbformat": 4,
 "nbformat_minor": 5
}
