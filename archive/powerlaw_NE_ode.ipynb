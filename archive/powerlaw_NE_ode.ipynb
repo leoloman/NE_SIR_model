{
 "cells": [
  {
   "cell_type": "code",
   "execution_count": 1,
   "id": "f0d78c0b-edf7-4b1d-8142-c95f017eb4ce",
   "metadata": {},
   "outputs": [],
   "source": [
    "import scipy as sp\n",
    "import scipy.integrate as sp_int\n",
    "import matplotlib.pyplot as plt\n",
    "import math\n",
    "import numpy as np"
   ]
  },
  {
   "cell_type": "code",
   "execution_count": 2,
   "id": "e4fd0346-e9be-469f-8fc2-dae6798a6fa3",
   "metadata": {},
   "outputs": [],
   "source": [
    "def powerlaw_p_vec(alpha:float, max_deg:int):\n",
    "    \"\"\"\n",
    "    Create the power law probability vector, required for the powerlaw probability generating function below\n",
    "    \"\"\"\n",
    "    dist = [0]*(max_deg+1)\n",
    "    alpha = float(alpha)\n",
    "    denom = 0.0\n",
    "    for i in range(1, max_deg+1):\n",
    "        denom += i**(-1*alpha)\n",
    "    for k in range(1, max_deg+1):\n",
    "        dist[k] = k**(-1*alpha)/denom\n",
    "    \n",
    "    return dist\n",
    "\n",
    "def calc_g(p_vec, x):\n",
    "    \"\"\"\n",
    "    Probability generating function for generic powerlaw distribution\n",
    "    \"\"\"\n",
    "    g_val = 0\n",
    "    for k in range(len(p_vec)):\n",
    "        g_val = g_val + p_vec[k]*x**(k)\n",
    "    return g_val\n",
    "\n",
    "def calc_g1(p_vec, x):\n",
    "    \"\"\"\n",
    "    First derivative Probability generating function for generic powerlaw distribution\n",
    "    \"\"\"\n",
    "    g_val = 0\n",
    "    for k in range(len(p_vec)):\n",
    "        g_val = g_val + (k)*p_vec[k]*x**(k-1)\n",
    "    return g_val\n",
    "\n",
    "def calc_g2(p_vec, x):\n",
    "    \"\"\"\n",
    "    Second derivate Probability generating function for generic powerlaw distribution\n",
    "    \"\"\"\n",
    "    g_val = 0\n",
    "    for k in range(len(p_vec)):\n",
    "        g_val = g_val + (k)*(k-1)*p_vec[k]*x**(k-2)\n",
    "    return g_val"
   ]
  },
  {
   "cell_type": "code",
   "execution_count": 3,
   "id": "fc94e45a-89c9-4066-be81-18ba178e9965",
   "metadata": {},
   "outputs": [],
   "source": [
    "def derv(x,t,lam,rr,mm,pp):\n",
    "    #y[0]= change of theta \n",
    "    #y[1]= change of p_infec \n",
    "    #y[2]= change of p_suscep \n",
    "    #y[3]= proportion of S \n",
    "    #y[4]= change of M_I \n",
    "    #y[5]= change of I\n",
    "    y=list(range(6))#zeros(6);\n",
    "    y[0]=-rr*x[1]*x[0] \n",
    "    y[1]=rr*x[2]*x[1]*x[0]*calc_g2(lam,x[0])/calc_g1(lam,x[0])-rr*x[1]*(1-x[1])-x[1]*mm+pp*(x[4]-x[1]) \n",
    "    y[2]=rr*x[2]*x[1]*(1-x[0]*calc_g2(lam,x[0])/calc_g1(lam,x[0]))+pp*(x[0]*calc_g1(lam,x[0])/calc_g1(lam,1)-x[2])\n",
    "    y[3]=-rr*x[1]*x[0]*calc_g1(lam,x[0]) \n",
    "    y[4]=-mm*x[4]+rr*x[1]*(x[0]**2*calc_g2(lam,x[0])+x[0]*calc_g1(lam,x[0])/calc_g1(lam,1)) \n",
    "    y[5]=rr*x[1]*x[0]*calc_g1(lam,x[0])-mm*x[5]\n",
    "    return(y)"
   ]
  },
  {
   "cell_type": "code",
   "execution_count": 16,
   "id": "e8e5738b-4281-4aa2-bdad-31294dbe6624",
   "metadata": {},
   "outputs": [],
   "source": [
    "lamda = powerlaw_p_vec(2.218, 75)\n",
    "r = 0.2\n",
    "mu = 0.2\n",
    "ro = 0.2\n",
    "epsilon = 0.001\n",
    "time = list(range(0,200))\n",
    "# time = np.linspace(0,200,0.1)\n",
    "init = [1 - epsilon, # proportion susceptible at start\n",
    "       epsilon / (1 - epsilon),\n",
    "       (1 - 2*epsilon)/(1 - epsilon),\n",
    "       calc_g(lamda, 1 - epsilon),\n",
    "       epsilon,\n",
    "       1 - calc_g(lamda, 1- epsilon)]\n",
    "\n",
    "out=sp_int.odeint(derv, init, time, args=(lamda,r,mu,ro))"
   ]
  },
  {
   "cell_type": "code",
   "execution_count": 17,
   "id": "cac28725-4725-40c5-bf28-15556a7158f1",
   "metadata": {},
   "outputs": [],
   "source": [
    "N = 10_000\n",
    "pop_tap = out *N"
   ]
  },
  {
   "cell_type": "code",
   "execution_count": 18,
   "id": "24483962-2265-4704-a312-ea2fe59529ee",
   "metadata": {},
   "outputs": [
    {
     "data": {
      "text/plain": [
       "<matplotlib.legend.Legend at 0x13b473100>"
      ]
     },
     "execution_count": 18,
     "metadata": {},
     "output_type": "execute_result"
    },
    {
     "data": {
      "image/png": "[encoded data removed]",
      "text/plain": [
       "<Figure size 432x288 with 1 Axes>"
      ]
     },
     "metadata": {
      "needs_background": "light"
     },
     "output_type": "display_data"
    }
   ],
   "source": [
    "# plt.plot(pop_tap[:,0], alpha =0.5) # change of theta\n",
    "# plt.plot(pop_tap[:,1])#\n",
    "# plt.plot(pop_tap[:,2])\n",
    "plt.plot(pop_tap[:,3], label = 'S')\n",
    "# plt.plot(pop_tap[:,4], alpha = 0.5)\n",
    "plt.plot(pop_tap[:,5], alpha = 0.5, label = 'I')\n",
    "# recovered\n",
    "plt.plot(10_000 - (pop_tap[:,5]+pop_tap[:,3]), alpha = 0.5, label= 'R')\n",
    "plt.legend()"
   ]
  },
  {
   "cell_type": "code",
   "execution_count": 19,
   "id": "a346fa98-01ad-41ac-bf17-ea5f710a16dc",
   "metadata": {},
   "outputs": [
    {
     "data": {
      "text/plain": [
       "array([6496.27581345])"
      ]
     },
     "execution_count": 19,
     "metadata": {},
     "output_type": "execute_result"
    }
   ],
   "source": [
    "# final size\n",
    "N - (pop_tap[:,5]+pop_tap[:,3])[199:]"
   ]
  },
  {
   "cell_type": "code",
   "execution_count": null,
   "id": "d073f860-c35f-483a-b63c-698f6c0363f8",
   "metadata": {},
   "outputs": [],
   "source": []
  },
  {
   "cell_type": "code",
   "execution_count": null,
   "id": "1ca39cc1-feb5-45c3-ac19-36d528d39bba",
   "metadata": {},
   "outputs": [],
   "source": []
  }
 ],
 "metadata": {
  "kernelspec": {
   "display_name": "sklearn_env",
   "language": "python",
   "name": "sklearn"
  },
  "language_info": {
   "codemirror_mode": {
    "name": "ipython",
    "version": 3
   },
   "file_extension": ".py",
   "mimetype": "text/x-python",
   "name": "python",
   "nbconvert_exporter": "python",
   "pygments_lexer": "ipython3",
   "version": "3.9.7"
  }
 },
 "nbformat": 4,
 "nbformat_minor": 5
}
