{
 "cells": [
  {
   "cell_type": "code",
   "execution_count": 1,
   "id": "c07dfdc7-1e22-4ffb-858d-c91a8008d5f1",
   "metadata": {},
   "outputs": [],
   "source": [
    "import scipy as sp\n",
    "import scipy.integrate as sp_int\n",
    "import matplotlib.pyplot as plt\n",
    "import math\n",
    "import numpy as np"
   ]
  },
  {
   "cell_type": "code",
   "execution_count": 2,
   "id": "2d4b6ff7-b77d-4651-bc79-a7dc0b2c6963",
   "metadata": {},
   "outputs": [],
   "source": [
    "def calc_g(lambda_g, x):\n",
    "    \"\"\"\n",
    "    Probability generating function for poisson distribution\n",
    "    \"\"\"\n",
    "    \n",
    "    return math.e**(lambda_g * (x-1)) \n",
    "\n",
    "def calc_g1(lambda_g, x):\n",
    "    \"\"\"\n",
    "    First derivative Probability generating function for poisson distribution\n",
    "    \"\"\"\n",
    "    \n",
    "    return lambda_g * math.e**(lambda_g * (x-1)) \n",
    "\n",
    "def calc_g2(lambda_g, x):\n",
    "    \"\"\"\n",
    "    Second derivative Probability generating function for poisson distribution\n",
    "    \"\"\"\n",
    "    return (lambda_g**2) * math.e**(lambda_g * (x-1)) "
   ]
  },
  {
   "cell_type": "code",
   "execution_count": 3,
   "id": "a888cc5f-c68a-4172-a614-cca152c1207a",
   "metadata": {},
   "outputs": [],
   "source": [
    "def derv(x,t,lam,rr,mm,pp):\n",
    "    #y[0]= change of theta \n",
    "    #y[1]= change of p_infec \n",
    "    #y[2]= change of p_suscep \n",
    "    #y[3]= proportion of S \n",
    "    #y[4]= change of M_I \n",
    "    #y[5]= change of I\n",
    "    y=list(range(6))#zeros(6);\n",
    "    y[0]=-rr*x[1]*x[0] \n",
    "    y[1]=rr*x[2]*x[1]*x[0]*calc_g2(lam,x[0])/calc_g1(lam,x[0])-rr*x[1]*(1-x[1])-x[1]*mm+pp*(x[4]-x[1]) \n",
    "    y[2]=rr*x[2]*x[1]*(1-x[0]*calc_g2(lam,x[0])/calc_g1(lam,x[0]))+pp*(x[0]*calc_g1(lam,x[0])/calc_g1(lam,1)-x[2])\n",
    "    y[3]=-rr*x[1]*x[0]*calc_g1(lam,x[0]) \n",
    "    y[4]=-mm*x[4]+rr*x[1]*(x[0]**2*calc_g2(lam,x[0])+x[0]*calc_g1(lam,x[0])/calc_g1(lam,1)) \n",
    "    y[5]=rr*x[1]*x[0]*calc_g1(lam,x[0])-mm*x[5]\n",
    "    return(y)"
   ]
  },
  {
   "cell_type": "code",
   "execution_count": 23,
   "id": "ab0af2a7-b6cd-4615-952f-2ad0107f8fbd",
   "metadata": {},
   "outputs": [],
   "source": [
    "lamda = 2.5\n",
    "r = 0.2\n",
    "mu = 0.2\n",
    "ro = 0.2\n",
    "epsilon = 0.001\n",
    "time = list(range(0,200))\n",
    "# time = np.linspace(0,200,0.1)\n",
    "init = [1 - epsilon, # proportion susceptible at start\n",
    "       epsilon / (1 - epsilon),\n",
    "       (1 - 2*epsilon)/(1 - epsilon),\n",
    "       calc_g(lamda, 1 - epsilon),\n",
    "       epsilon,\n",
    "       1 - calc_g(lamda, 1- epsilon)]\n",
    "\n",
    "out=sp_int.odeint(derv, init, time, args=(lamda,r,mu,ro))"
   ]
  },
  {
   "cell_type": "code",
   "execution_count": 24,
   "id": "a1a5d5f2-9fd5-469f-98a8-89d405d042d3",
   "metadata": {},
   "outputs": [],
   "source": [
    "N = 10_000\n",
    "pop_tap = out *N"
   ]
  },
  {
   "cell_type": "code",
   "execution_count": 25,
   "id": "bfa41671-bd5b-47af-9715-cb2b53ca611f",
   "metadata": {},
   "outputs": [
    {
     "data": {
      "text/plain": [
       "<matplotlib.legend.Legend at 0x12f252670>"
      ]
     },
     "execution_count": 25,
     "metadata": {},
     "output_type": "execute_result"
    },
    {
     "data": {
      "image/png": "[encoded data removed]",
      "text/plain": [
       "<Figure size 432x288 with 1 Axes>"
      ]
     },
     "metadata": {
      "needs_background": "light"
     },
     "output_type": "display_data"
    }
   ],
   "source": [
    "# plt.plot(pop_tap[:,0], alpha =0.5) # change of theta\n",
    "# plt.plot(pop_tap[:,1])#\n",
    "# plt.plot(pop_tap[:,2])\n",
    "plt.plot(pop_tap[:,3], label = 'S')\n",
    "# plt.plot(pop_tap[:,4], alpha = 0.5)\n",
    "plt.plot(pop_tap[:,5], alpha = 0.5, label = 'I')\n",
    "# recovered\n",
    "plt.plot(10_000 - (pop_tap[:,5]+pop_tap[:,3]), alpha = 0.5, label= 'R')\n",
    "plt.legend()"
   ]
  },
  {
   "cell_type": "code",
   "execution_count": null,
   "id": "8347d305-11d3-413d-94e2-8e959b4bf95a",
   "metadata": {},
   "outputs": [
    {
     "data": {
      "text/plain": [
       "array([7788.08031201])"
      ]
     },
     "execution_count": 26,
     "metadata": {},
     "output_type": "execute_result"
    }
   ],
   "source": [
    "# final size\n",
    "N - (pop_tap[:,5]+pop_tap[:,3])[199:]"
   ]
  },
  {
   "cell_type": "code",
   "execution_count": null,
   "id": "b03b3b2b-4db9-40d7-ad55-41dfdb3667ae",
   "metadata": {},
   "outputs": [],
   "source": []
  }
 ],
 "metadata": {
  "kernelspec": {
   "display_name": "sklearn_env",
   "language": "python",
   "name": "sklearn"
  },
  "language_info": {
   "codemirror_mode": {
    "name": "ipython",
    "version": 3
   },
   "file_extension": ".py",
   "mimetype": "text/x-python",
   "name": "python",
   "nbconvert_exporter": "python",
   "pygments_lexer": "ipython3",
   "version": "3.9.7"
  }
 },
 "nbformat": 4,
 "nbformat_minor": 5
}
